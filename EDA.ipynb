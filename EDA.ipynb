{
 "cells": [
  {
   "cell_type": "code",
   "execution_count": 2,
   "id": "f7b31698",
   "metadata": {},
   "outputs": [],
   "source": [
    "# Import libraries\n",
    "import pandas as pd\n",
    "import seaborn as sns\n",
    "import matplotlib.pyplot as plt\n",
    "import numpy as np\n",
    "\n",
    "# Base path for datasets\n",
    "data_path = \"data\"\n",
    "\n",
    "# Load data\n",
    "receivals = pd.read_csv(f\"{data_path}/kernel/receivals.csv\")\n",
    "purchase_orders = pd.read_csv(f\"{data_path}/kernel/purchase_orders.csv\")\n",
    "materials = pd.read_csv(f\"{data_path}/extended/materials.csv\")\n",
    "transportation = pd.read_csv(f\"{data_path}/extended/transportation.csv\")\n",
    "\n",
    "# Convert date columns to datetime\n",
    "receivals[\"date_arrival\"] = pd.to_datetime(receivals[\"date_arrival\"], utc=True)\n",
    "purchase_orders[\"delivery_date\"] = pd.to_datetime(purchase_orders[\"delivery_date\"], utc=True)\n",
    "purchase_orders[\"created_date_time\"] = pd.to_datetime(purchase_orders[\"created_date_time\"], utc=True)\n",
    "purchase_orders[\"modified_date_time\"] = pd.to_datetime(purchase_orders[\"modified_date_time\"], utc=True)"
   ]
  },
  {
   "cell_type": "markdown",
   "id": "e708aaa3",
   "metadata": {},
   "source": [
    "Before analyzing the data for forecasting, we first want to make sure it behaves as expected. To do this, we merge the `receivals` and `purchase_orders` tables into a single dataset. This lets us see delivered quantities in the context of their corresponding purchase orders, product details, and other relevant information. \n",
    "\n",
    "We then remove purchase orders that do not have any matching receivals. These rows represent orders that never resulted in deliveries and are unlikely to be informative for forecasting incoming raw materials.  \n",
    "\n",
    "With this cleaned and merged dataset, we can now examine the data for unusual or unexpected values, such as negative or zero quantities and weights, to ensure it is intuitive and consistent."
   ]
  },
  {
   "cell_type": "code",
   "execution_count": 18,
   "id": "e6210c2c",
   "metadata": {},
   "outputs": [
    {
     "name": "stdout",
     "output_type": "stream",
     "text": [
      "Merged dataframe shape: (122593, 20)\n",
      "Total purchase order items: 33171\n",
      "Number of PO items with at least one matching receival: 22299\n",
      "Number of PO items without any matching receival: 10872\n",
      "Fraction of PO items without matching receival: 32.78%\n"
     ]
    }
   ],
   "source": [
    "# Merge purchase_orders into receivals (main table)\n",
    "merged_df = receivals.merge(\n",
    "    purchase_orders,\n",
    "    on=['purchase_order_id', 'purchase_order_item_no'],\n",
    "    how='left',  # keeps all receivals; PO info added when it exists\n",
    "    suffixes=('', '_po')\n",
    ")\n",
    "\n",
    "# Check the result\n",
    "print(f\"Merged dataframe shape: {merged_df.shape}\")\n",
    "\n",
    "# Count purchase order items without any matching receival\n",
    "po_total = len(purchase_orders)\n",
    "po_with_match = purchase_orders[purchase_orders.set_index(['purchase_order_id', 'purchase_order_item_no']).index.isin(\n",
    "    merged_df.set_index(['purchase_order_id', 'purchase_order_item_no']).index\n",
    ")]\n",
    "po_without_match = po_total - len(po_with_match)\n",
    "\n",
    "print(f\"Total purchase order items: {po_total}\")\n",
    "print(f\"Number of PO items with at least one matching receival: {len(po_with_match)}\")\n",
    "print(f\"Number of PO items without any matching receival: {po_without_match}\")\n",
    "print(f\"Fraction of PO items without matching receival: {po_without_match / po_total:.2%}\")\n"
   ]
  },
  {
   "cell_type": "markdown",
   "id": "1b3af0a4",
   "metadata": {},
   "source": [
    "Next, we examine the merged receivals and purchase orders table for non-positive values in key numeric columns. Negative or zero values for quantities or net weights are physically impossible and indicate potential data issues. By identifying these, we can better understand anomalies in the dataset before moving on to further cleaning or analysis."
   ]
  },
  {
   "cell_type": "code",
   "execution_count": 19,
   "id": "8f8905ff",
   "metadata": {},
   "outputs": [
    {
     "name": "stdout",
     "output_type": "stream",
     "text": [
      "Non-positive values:\n",
      "net_weight: 137 non-positive values (137 zero, 0 negative)\n",
      "quantity: 0 non-positive values (0 zero, 0 negative)\n"
     ]
    }
   ],
   "source": [
    "# Columns to check for non-positive values\n",
    "check_columns = ['net_weight', 'quantity']\n",
    "\n",
    "# Function to count zero and negative values in merged_df\n",
    "def count_non_positive(df, columns):\n",
    "    print(\"Non-positive values:\")\n",
    "    for col in columns:\n",
    "        if col in df.columns:\n",
    "            num_zero = (df[col] == 0).sum()\n",
    "            num_negative = (df[col] < 0).sum()\n",
    "            total = num_zero + num_negative\n",
    "            print(f\"{col}: {total} non-positive values ({num_zero} zero, {num_negative} negative)\")\n",
    "\n",
    "# Run check on relevant columns\n",
    "count_non_positive(merged_df, check_columns)\n"
   ]
  },
  {
   "cell_type": "markdown",
   "id": "0d5e27c3",
   "metadata": {},
   "source": [
    "After examining the merged table, we find that net_weight contains 137 zero values. These entries likely correspond to missing measurements or data entry errors. Given their small number relative to the overall dataset, we will drop these zero net_weight entries to ensure our analysis only includes valid deliveries with meaningful weight information."
   ]
  }
 ],
 "metadata": {
  "kernelspec": {
   "display_name": "base",
   "language": "python",
   "name": "python3"
  },
  "language_info": {
   "codemirror_mode": {
    "name": "ipython",
    "version": 3
   },
   "file_extension": ".py",
   "mimetype": "text/x-python",
   "name": "python",
   "nbconvert_exporter": "python",
   "pygments_lexer": "ipython3",
   "version": "3.13.5"
  }
 },
 "nbformat": 4,
 "nbformat_minor": 5
}
