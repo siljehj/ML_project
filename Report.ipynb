{
 "cells": [
  {
   "cell_type": "markdown",
   "id": "a274d56f",
   "metadata": {},
   "source": [
    "# Project Report TDT4173\n",
    "\n",
    "Kaggle Team Name: `[7] Material Girls`\n",
    "\n",
    "Team Members:\n",
    "- [564323] Eirill Bue\n",
    "- [544590] Nora Langfeldt Borgenvik\n",
    "- [586744] Silje Holm Johannesen"
   ]
  },
  {
   "cell_type": "markdown",
   "id": "229e34b1",
   "metadata": {},
   "source": [
    "# Preparation"
   ]
  },
  {
   "cell_type": "code",
   "execution_count": 3,
   "id": "4777611e",
   "metadata": {},
   "outputs": [],
   "source": [
    "# Import libraries\n",
    "import pandas as pd\n",
    "import seaborn as sns\n",
    "import matplotlib.pyplot as plt\n",
    "import numpy as np\n",
    "\n",
    "# Base path for datasets\n",
    "data_path = \"data\"\n",
    "\n",
    "# Load data\n",
    "receivals = pd.read_csv(f\"{data_path}/kernel/receivals.csv\")\n",
    "purchase_orders = pd.read_csv(f\"{data_path}/kernel/purchase_orders.csv\")\n",
    "materials = pd.read_csv(f\"{data_path}/extended/materials.csv\")\n",
    "transportation = pd.read_csv(f\"{data_path}/extended/transportation.csv\")\n",
    "\n",
    "# Convert date columns to datetime\n",
    "receivals[\"date_arrival\"] = pd.to_datetime(receivals[\"date_arrival\"], utc=True)\n",
    "purchase_orders[\"delivery_date\"] = pd.to_datetime(purchase_orders[\"delivery_date\"], utc=True)\n",
    "purchase_orders[\"created_date_time\"] = pd.to_datetime(purchase_orders[\"created_date_time\"], utc=True)\n",
    "purchase_orders[\"modified_date_time\"] = pd.to_datetime(purchase_orders[\"modified_date_time\"], utc=True)"
   ]
  }
 ],
 "metadata": {
  "kernelspec": {
   "display_name": "base",
   "language": "python",
   "name": "python3"
  },
  "language_info": {
   "codemirror_mode": {
    "name": "ipython",
    "version": 3
   },
   "file_extension": ".py",
   "mimetype": "text/x-python",
   "name": "python",
   "nbconvert_exporter": "python",
   "pygments_lexer": "ipython3",
   "version": "3.13.5"
  }
 },
 "nbformat": 4,
 "nbformat_minor": 5
}
